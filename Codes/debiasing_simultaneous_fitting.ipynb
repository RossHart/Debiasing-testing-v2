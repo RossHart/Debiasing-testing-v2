{
 "cells": [
  {
   "cell_type": "code",
   "execution_count": 1,
   "metadata": {
    "collapsed": true
   },
   "outputs": [],
   "source": [
    "from __future__ import print_function\n",
    "from __future__ import division\n",
    "\n",
    "import make_dictionaries\n",
    "import os\n",
    "import math\n",
    "import params\n",
    "\n",
    "import numpy as np\n",
    "from astropy.io import fits\n",
    "from astropy.table import Table\n",
    "from scipy.stats import binned_statistic, scoreatpercentile\n",
    "import pickle\n",
    "from scipy.optimize import minimize\n",
    "import time\n",
    "from voronoi_2d_binning import voronoi_2d_binning\n",
    "from sklearn.neighbors import NearestNeighbors\n",
    "\n",
    "from scipy.optimize import minimize\n",
    "from scipy.optimize import curve_fit"
   ]
  },
  {
   "cell_type": "code",
   "execution_count": 2,
   "metadata": {
    "collapsed": true
   },
   "outputs": [],
   "source": [
    "%matplotlib inline\n",
    "import matplotlib as mpl\n",
    "from matplotlib import pyplot as plt\n",
    "# better-looking plots\n",
    "plt.rcParams['font.family'] = 'serif'\n",
    "plt.rcParams['figure.figsize'] = (10.0, 8)\n",
    "plt.rcParams['font.size'] = 18\n",
    "mpl.ticker.AutoLocator.default_params['nbins'] = 5\n",
    "mpl.ticker.AutoLocator.default_params['prune'] = 'both'"
   ]
  },
  {
   "cell_type": "code",
   "execution_count": 3,
   "metadata": {
    "collapsed": false
   },
   "outputs": [
    {
     "name": "stdout",
     "output_type": "stream",
     "text": [
      "Question to be debiased: t01_smooth_or_features\n"
     ]
    }
   ],
   "source": [
    "source_directory = params.source_directory\n",
    "save_directory = params.numpy_save_directory\n",
    "full_sample = params.full_sample\n",
    "volume_limited_sample = params.volume_limited_sample\n",
    "question = params.question\n",
    "bins_to_plot = params.bins_to_plot\n",
    "print('Question to be debiased: {}'.format(question))\n",
    "\n",
    "min_log_fv = -1.5#np.log10(0.1)\n",
    "max_log_fv = 0.01"
   ]
  },
  {
   "cell_type": "code",
   "execution_count": 4,
   "metadata": {
    "collapsed": false
   },
   "outputs": [
    {
     "name": "stdout",
     "output_type": "stream",
     "text": [
      "Loaded galaxy data...\n",
      "Loaded questions...\n",
      "Loaded functions...\n"
     ]
    }
   ],
   "source": [
    "data = Table.read(source_directory + full_sample)\n",
    "print('Loaded galaxy data...')\n",
    "questions = make_dictionaries.questions\n",
    "print('Loaded questions...')\n",
    "function_dictionary = make_dictionaries.function_dictionary\n",
    "print('Loaded functions...')\n",
    "\n",
    "low_z_lim = 0.03\n",
    "data = data[data['REDSHIFT_1'] > low_z_lim]\n",
    "\n",
    "# For this code, go through each of the answers separately\n",
    "answers = questions[question]['answers']\n",
    "answer = answers[1]\n",
    "raw_column = data[question + '_' + answer + '_weighted_fraction']\n",
    "fv_nonzero = raw_column > 0 # Select only the non-zero data to add to the 'signal' for each bin."
   ]
  },
  {
   "cell_type": "code",
   "execution_count": 5,
   "metadata": {
    "collapsed": false
   },
   "outputs": [],
   "source": [
    "def voronoi_binning(R50, Mr, n_rect_bins=500, n_per_voronoi_bin=5000,save=False):\n",
    "    \n",
    "    rect_bin_val, R50_bin_edges, Mr_bin_edges = np.histogram2d(R50, Mr, n_rect_bins)\n",
    "\n",
    "    rect_bins_table = Table(data=[R50_bin_edges, Mr_bin_edges],\n",
    "                            names=['R50_bin_edges', 'Mr_bin_edges'])\n",
    "    rect_bins_table.meta['nrectbin'] = n_rect_bins # add value for number of \n",
    "    # bins to the table. \n",
    "    \n",
    "    # Get bin centres + number of bins:\n",
    "    R50_bin_centres = 0.5*(R50_bin_edges[:-1] + R50_bin_edges[1:])\n",
    "    Mr_bin_centres = 0.5*(Mr_bin_edges[:-1] + Mr_bin_edges[1:]) \n",
    "    n_R50_bins = len(R50_bin_centres)\n",
    "    n_Mr_bins = len(Mr_bin_centres)\n",
    "\n",
    "    # Get ranges:\n",
    "    R50_bins_min, Mr_bins_min = map(np.min, (R50_bin_centres, Mr_bin_centres))\n",
    "    R50_bins_max, Mr_bins_max = map(np.max, (R50_bin_centres, Mr_bin_centres))\n",
    "    R50_bins_range = R50_bins_max - R50_bins_min\n",
    "    Mr_bins_range = Mr_bins_max - Mr_bins_min\n",
    "    \n",
    "    # 'Ravel' out the coordinate bins (.'. length=n_bin*n_bin)\n",
    "    R50_bin_coords = R50_bin_centres.repeat(n_rect_bins).reshape(n_rect_bins, n_rect_bins).ravel()\n",
    "    Mr_bin_coords = Mr_bin_centres.repeat(n_rect_bins).reshape(n_rect_bins, n_rect_bins).T.ravel()\n",
    "\n",
    "    # Only keep bins that contain a galaxy:\n",
    "    signal = rect_bin_val.ravel() # signal=number of gals.\n",
    "    ok_bin = (signal > 0).nonzero()[0]\n",
    "    signal = signal[ok_bin]\n",
    "\n",
    "    # Normalise x + y to be between 0 and 1:\n",
    "    x = (R50_bin_coords[ok_bin] - R50_bins_min) / R50_bins_range\n",
    "    y = (Mr_bin_coords[ok_bin] - Mr_bins_min) / Mr_bins_range\n",
    "\n",
    "    # Voronoi_2d_binning aims for a target S/N\n",
    "    noise = np.sqrt(signal)\n",
    "    targetSN = np.sqrt(n_per_voronoi_bin)\n",
    "\n",
    "    output = voronoi_2d_binning(x, y, signal, noise, targetSN, plot=0, quiet=1, wvt=True)\n",
    "    binNum, xNode, yNode, xBar, yBar, sn, nPixels, scale = output\n",
    "\n",
    "    vbin = np.unique(binNum)\n",
    "    count = (sn**2).astype(np.int) # N_gals for each voronoi bin.\n",
    "    R50_vbin_mean = xBar * R50_bins_range + R50_bins_min\n",
    "    Mr_vbin_mean = yBar * Mr_bins_range + Mr_bins_min\n",
    "    \n",
    "    vbins_table = Table(data=[vbin, R50_vbin_mean, Mr_vbin_mean,\n",
    "                              count, nPixels],\n",
    "                        names=['vbin', 'R50', 'Mr', \n",
    "                               'count_gals', 'count_rect_bins'])\n",
    "    vbins_table.meta['nrectbin'] = n_rect_bins\n",
    "    vbins_table.meta['nperbin'] = n_per_voronoi_bin\n",
    "\n",
    "    # Populate elements of the rectangular grid with\n",
    "    # the voronoi bin indices and counts\n",
    "    rect_bin_voronoi_bin = np.zeros(np.product(rect_bin_val.shape), np.int) - 1\n",
    "    rect_bin_voronoi_bin[ok_bin] = binNum\n",
    "    rect_bin_count = np.zeros_like(rect_bin_voronoi_bin)\n",
    "    rect_bin_count[ok_bin] = count\n",
    "    \n",
    "    rect_vbins_table = Table(data=[R50_bin_coords, Mr_bin_coords,\n",
    "                             rect_bin_voronoi_bin],\n",
    "                             names=['R50', 'Mr', 'vbin'])\n",
    "    rect_bins_table.meta['nrectbin'] = n_rect_bins\n",
    "    rect_bins_table.meta['nperbin'] = n_per_voronoi_bin\n",
    "    \n",
    "    if save == True:\n",
    "        rect_bins_table.write(save_directory + 'rect_bins_table.fits', overwrite=True)\n",
    "        vbins_table.write(save_directory + 'vbins_table.fits', overwrite=True)\n",
    "        rect_vbins_table.write(save_directory + 'rect_vbins_table.fits', overwrite=True)\n",
    "        \n",
    "    plt.hist(vbins_table['count_gals'],histtype='stepfilled',color='b',alpha=0.5,linewidth=0)\n",
    "    ylims = plt.gca().get_ylim()\n",
    "    plt.vlines(n_per_voronoi_bin,ylims[0],ylims[1],color='k',linewidth=3,linestyle='dotted')\n",
    "    plt.ylabel('$N_{bin}$')\n",
    "    plt.xlabel('$N_{gal}$')\n",
    "    \n",
    "    # rect_bins_table: contains all of the bin edges (len=N_bins)\n",
    "    # rect_vbins_table: has bin centre values + assigned v-bin (len=N_bins**2)\n",
    "    # vbins_table: for each bin, contains the number of gals, Mr+R50 mean\n",
    "    # values + the number of rectangular bins it is made up of (len=N_v-bins)\n",
    "    return rect_bins_table, vbins_table, rect_vbins_table, Mr_bins_min, Mr_bins_range, R50_bins_min, R50_bins_range"
   ]
  },
  {
   "cell_type": "code",
   "execution_count": 6,
   "metadata": {
    "collapsed": true
   },
   "outputs": [],
   "source": [
    "def redshift_binning(data,voronoi_bins,min_gals=100):\n",
    "    \n",
    "    redshift = data['REDSHIFT_1']\n",
    "    z_bins = []\n",
    "\n",
    "    for N in np.unique(voronoi_bins):\n",
    "        inbin = voronoi_bins == N\n",
    "        n_with_morph = np.sum(inbin)\n",
    "        n_zbins = n_with_morph/min_gals\n",
    "        z = redshift[inbin]\n",
    "        z = np.sort(z)\n",
    "        bin_edges = np.linspace(0, len(z)-1, n_zbins+1, dtype=np.int)\n",
    "        z_edges = z[bin_edges]\n",
    "        z_edges[0] = 0\n",
    "        z_edges[-1] = 1\n",
    "        \n",
    "        z_bins.append(z_edges)\n",
    "        \n",
    "    return z_bins"
   ]
  },
  {
   "cell_type": "code",
   "execution_count": 7,
   "metadata": {
    "collapsed": false
   },
   "outputs": [],
   "source": [
    "# Need to assign all of the galaxies to correct bins.\n",
    "\n",
    "def voronoi_assignment(data, rect_bins_table, rect_vbins_table,\n",
    "                       Mr_bins_min, Mr_bins_range, R50_bins_min, R50_bins_range,\n",
    "                       reassign=False):\n",
    "    R50_bin_edges = rect_bins_table['R50_bin_edges']\n",
    "    Mr_bin_edges = rect_bins_table['Mr_bin_edges']\n",
    "    n_R50_bins = len(R50_bin_edges) - 1\n",
    "    n_Mr_bins = len(Mr_bin_edges) - 1\n",
    "    \n",
    "    R50 = np.log10(data['PETROR50_R_KPC'])\n",
    "    Mr = data['PETROMAG_MR']\n",
    "    \n",
    "    # get the R50 and Mr bin for each galaxy in the sample\n",
    "    R50_bins = np.digitize(R50, bins=R50_bin_edges).clip(1, n_R50_bins)\n",
    "    Mr_bins = np.digitize(Mr, bins=Mr_bin_edges).clip(1, n_Mr_bins)\n",
    "\n",
    "    # convert R50 and Mr bin indices to indices of bins\n",
    "    # in the combined rectangular grid\n",
    "    rect_bins = (Mr_bins - 1) + n_Mr_bins * (R50_bins - 1)\n",
    "\n",
    "    # get the voronoi bin for each galaxy in the sample\n",
    "    rect_bin_vbins = rect_vbins_table['vbin']\n",
    "    voronoi_bins = rect_bin_vbins[rect_bins]\n",
    "    \n",
    "    if reassign is True: # Find nearest bin if none available\n",
    "        rect_bins_assigned = rect_vbins_table[rect_vbins_table['vbin'] != -1]\n",
    "        R50_bin = rect_bins_assigned['R50']\n",
    "        Mr_bin = rect_bins_assigned['Mr']\n",
    "        \n",
    "        x = (R50_bin - R50_bins_min) / R50_bins_range\n",
    "        y = (Mr_bin - Mr_bins_min) / Mr_bins_range\n",
    "        \n",
    "        unassigned = voronoi_bins == -1\n",
    "        R50u = (R50[unassigned] - R50_bins_min) / R50_bins_range\n",
    "        Mru = (Mr[unassigned] - Mr_bins_min) / Mr_bins_range\n",
    "        \n",
    "        xy = (np.array([R50u,Mru])).T\n",
    "        xy_ref = (np.array([x,y])).T\n",
    "        \n",
    "        nbrs = NearestNeighbors(n_neighbors=1,algorithm='ball_tree').fit(xy_ref,xy)\n",
    "        d,i = nbrs.kneighbors(xy)\n",
    "        i = i.squeeze()\n",
    "        vbins_reassigned = rect_bins_assigned['vbin'][i]\n",
    "        voronoi_bins[voronoi_bins == -1] = vbins_reassigned\n",
    "    \n",
    "    return voronoi_bins"
   ]
  },
  {
   "cell_type": "code",
   "execution_count": 8,
   "metadata": {
    "collapsed": true
   },
   "outputs": [],
   "source": [
    "def redshift_assignment(data,vbins,zbin_ranges):\n",
    "    \n",
    "    zbins = np.zeros(len(data))\n",
    "    \n",
    "    for v in (np.unique(vbins)):\n",
    "        z_range = zbin_ranges[v]\n",
    "        v_data = data[vbins == v]['REDSHIFT_1']\n",
    "        z_bin = np.digitize(v_data,bins=z_range)\n",
    "        zbins[vbins == v] = z_bin\n",
    "        \n",
    "    return zbins"
   ]
  },
  {
   "cell_type": "code",
   "execution_count": 9,
   "metadata": {
    "collapsed": true
   },
   "outputs": [],
   "source": [
    "def make_axes(n_morph,xlabel='$\\log(f_v)$',ylabel='cumulative fraction'):\n",
    "\n",
    "    x_dimension = math.ceil(math.sqrt(n_morph))\n",
    "    y_dimension = math.ceil(n_morph/x_dimension)\n",
    "    if n_morph > 4:\n",
    "        l = 20/x_dimension\n",
    "    else:\n",
    "        l = 10/x_dimension\n",
    "    n_plots = x_dimension*y_dimension\n",
    "    n_spare = n_plots-n_morph\n",
    "    remove_axes = np.arange(-n_spare,0)\n",
    "    fig,axes = plt.subplots(y_dimension,x_dimension,sharex=True,sharey=True,figsize=(l*x_dimension,l*y_dimension))\n",
    "    if n_morph >= 3:\n",
    "        for ax in axes[-1,:]:\n",
    "            ax.set_xlabel(xlabel)\n",
    "        for ax in axes[:,0]:\n",
    "            ax.set_ylabel(ylabel) \n",
    "    else:\n",
    "        axes[0].set_xlabel(xlabel)\n",
    "        axes[0].set_ylabel(ylabel)\n",
    "        axes[1].set_xlabel(xlabel)\n",
    "    plt.subplots_adjust(hspace=0,wspace=0)\n",
    "    axes=axes.ravel()\n",
    "    for m in remove_axes:\n",
    "        fig.delaxes(axes[m])\n",
    "    return fig,axes"
   ]
  },
  {
   "cell_type": "code",
   "execution_count": 10,
   "metadata": {
    "collapsed": true
   },
   "outputs": [],
   "source": [
    "def bin_data(data,n_vbins=40,signal=100,plot=True):\n",
    "    \n",
    "    R50 = data['PETROR50_R_KPC'][fv_nonzero]\n",
    "    rect_bins_table,vbins_table,rect_vbins_table,Mr_bins_min,Mr_bins_range,R50_bins_min,R50_bins_range = voronoi_binning(np.log10(R50),\n",
    "                                                                                                                         data['PETROMAG_MR'][fv_nonzero],\n",
    "                                                                                                                         n_per_voronoi_bin=np.sum(fv_nonzero)/n_vbins)\n",
    "\n",
    "    vbins = voronoi_assignment(data[fv_nonzero],rect_bins_table,rect_vbins_table,Mr_bins_min,\n",
    "                               Mr_bins_range, R50_bins_min, R50_bins_range)\n",
    "    zbin_ranges = redshift_binning(data[fv_nonzero],vbins,min_gals=signal)\n",
    "    \n",
    "    vbins = voronoi_assignment(data, rect_bins_table, rect_vbins_table,\n",
    "                           Mr_bins_min, Mr_bins_range, R50_bins_min, R50_bins_range,\n",
    "                           reassign=True)\n",
    "    \n",
    "    zbins = redshift_assignment(data,vbins,zbin_ranges)\n",
    "    \n",
    "    N_v = np.unique(vbins)\n",
    "    N_z = []\n",
    "    \n",
    "    for v in N_v:\n",
    "        zbins_v = zbins[vbins == v]\n",
    "        N_z.append(np.max(zbins_v))\n",
    "        \n",
    "    print('{} voronoi bins'.format(len(N_v)))\n",
    "    print('{} redshift bins per voronoi bin'.format(np.mean(N_z)))\n",
    "    \n",
    "    if plot == True:\n",
    "        \n",
    "        relative_r = [((T-T.min())/(T.max()-T.min())) for T in [vbins_table['R50'],vbins_table['Mr']]]\n",
    "        relative_r = relative_r[1]# + relative_r[1]\n",
    "        r_sort = np.argsort(relative_r)\n",
    "\n",
    "        for N in np.unique(vbins)[r_sort]:\n",
    "            inbin = vbins == N\n",
    "            plt.plot(data['PETROR50_R_KPC'][inbin],data['PETROMAG_MR'][inbin], '.')\n",
    "    \n",
    "        for N in range(len(vbins_table)):\n",
    "            x_text_pos = 10**(vbins_table['R50'][N])\n",
    "            y_text_pos = vbins_table['Mr'][N]\n",
    "            plt.text(x_text_pos,y_text_pos,'{}'.format(N),\n",
    "                     color='w',horizontalalignment='center',\n",
    "                     verticalalignment='center')\n",
    "\n",
    "        plt.ylabel(r\"$M_r$\")\n",
    "        plt.xlabel(r\"$R_{50}$ (kpc)\")\n",
    "        plt.xscale('log')\n",
    "        _ = plt.axis((0.5, 60, -18, -25))\n",
    "        \n",
    "        plt.savefig('figures/voronoi_binning/{}_{}.png'.format(question,answer))\n",
    "        \n",
    "    return vbins,zbins,vbins_table"
   ]
  },
  {
   "cell_type": "code",
   "execution_count": 11,
   "metadata": {
    "collapsed": true
   },
   "outputs": [],
   "source": [
    "def total_bins(vbins,zbins):\n",
    "    num_zv = 0\n",
    "    for v in np.unique(vbins):\n",
    "        zbins_v = zbins[vbins == v]\n",
    "        num_zv = num_zv + len(np.unique(zbins_v))\n",
    "    return num_zv"
   ]
  },
  {
   "cell_type": "code",
   "execution_count": 12,
   "metadata": {
    "collapsed": false
   },
   "outputs": [],
   "source": [
    "def cf_bins(data,vbins,zbins,question=question,answer=answer,\n",
    "            min_log_fv=min_log_fv,max_log_fv=max_log_fv):\n",
    "    \n",
    "    fraction = question + '_' + answer + '_weighted_fraction'\n",
    "    count = question + '_' + answer + '_count'\n",
    "    \n",
    "    N_b = total_bins(vbins,zbins)\n",
    "    cf_values = np.zeros((N_b,100))\n",
    "    bin_parameters = np.zeros((N_b,5))\n",
    "    i = 0 # Row index\n",
    "    \n",
    "    for v in np.unique(vbins):\n",
    "        zbins_v = zbins[vbins == v]\n",
    "        \n",
    "        for z in np.unique(zbins_v):\n",
    "            \n",
    "            vz_data = data[(vbins == v) & (zbins == z)]\n",
    "            p_values = np.sort(vz_data[fraction])\n",
    "            fv_nonzero = p_values != 0\n",
    "            n = len(p_values)\n",
    "            cumfrac = np.linspace(0,1,n)\n",
    "            p_values = np.log10(p_values)\n",
    "            \n",
    "            Mr = np.mean(vz_data['PETROMAG_MR'])\n",
    "            R50 = np.mean(vz_data['PETROR50_R_KPC'])\n",
    "            redshift = np.mean(vz_data['REDSHIFT_1'])\n",
    "        \n",
    "            D = Table(np.array([cumfrac,p_values]).T,names=('cumfrac','log10fv'))\n",
    "            D_fit_log10fv = np.log10(np.linspace(10**(min_log_fv), 1, 100))\n",
    "            D = D[(D['log10fv'] > min_log_fv) & (D['log10fv'] < max_log_fv)]\n",
    "            indices = np.searchsorted(D['log10fv'], D_fit_log10fv)\n",
    "            D_fit = D[indices.clip(0, len(D)-1)]\n",
    "            \n",
    "            cf_values[i] = D_fit['cumfrac']\n",
    "            bin_parameters[i] = [v,z,Mr,R50,redshift]\n",
    "            i = i + 1\n",
    "    \n",
    "    fv_values = np.log10(np.linspace(10**(min_log_fv), 1, 100))\n",
    "    bin_parameters = Table(bin_parameters,names=('vbin','zbin','Mr','R50','z'))\n",
    "    \n",
    "    return cf_values,bin_parameters,fv_values"
   ]
  },
  {
   "cell_type": "code",
   "execution_count": 21,
   "metadata": {
    "collapsed": true
   },
   "outputs": [],
   "source": [
    "def f_logistic(x,k,c):\n",
    "    # Function to fit the data bin output from the raw plot function\n",
    "    #L = l*(1 + np.exp(c))\n",
    "    r = 1 / (1.0 + np.exp(-k * x + c))\n",
    "    return r\n",
    "\n",
    "def f_exp_pow(x, k, c):\n",
    "    # Function to fit the data bin output from the raw plot function\n",
    "    r = np.exp(-k * (-x) ** c)\n",
    "    return r\n",
    "\n",
    "\n",
    "def kcfunc_all_bins(bin_parameters,A0,AR,AM,Az,\n",
    "                    B0,BR,BM,Bz):\n",
    "    \n",
    "    N_b = len(bin_parameters)\n",
    "    k = np.zeros(N_b)\n",
    "    c = np.zeros(N_b)\n",
    "    \n",
    "    for i in range(N_b):\n",
    "        M_r = bin_parameters['Mr'][i]\n",
    "        R50 = bin_parameters['R50'][i]\n",
    "        z = bin_parameters['z'][i]\n",
    "\n",
    "        k[i] = A0 + AM*(10**(M_r)) + AR*R50 + Az*z\n",
    "        c[i] = B0 + BM**(10**(M_r)) + BR*R50 + Bz*z\n",
    "    \n",
    "    return k,c\n",
    "\n",
    "\n",
    "def chisq_all_bins(p,f,x,y):\n",
    "    \n",
    "    N_b = len(bin_parameters)\n",
    "    chisq = 0\n",
    "    k,c = kcfunc_all_bins(bin_parameters,*p)\n",
    "    \n",
    "    for i in range(N_b):\n",
    "        \n",
    "        k_i = k[i]\n",
    "        c_i = c[i]\n",
    "        y_i = y[i]\n",
    "        \n",
    "        chisq_i = ((f(x,k_i,c_i) - y_i)**2).sum()\n",
    "        chisq = chisq + chisq_i\n",
    "    \n",
    "    return chisq"
   ]
  },
  {
   "cell_type": "code",
   "execution_count": 14,
   "metadata": {
    "collapsed": false
   },
   "outputs": [
    {
     "name": "stdout",
     "output_type": "stream",
     "text": [
      "Bin-accretion...\n",
      "2070  initial bins.\n",
      "Reassign bad bins...\n",
      "25  good bins.\n",
      "Modified Lloyd algorithm...\n",
      "23  iterations.\n",
      "Unbinned pixels:  0  /  39099\n",
      "Fractional S/N scatter (%): 9.6644937707\n",
      "25 voronoi bins\n",
      "82.96 redshift bins per voronoi bin\n"
     ]
    },
    {
     "name": "stderr",
     "output_type": "stream",
     "text": [
      "/home/ppxrh/anaconda3/lib/python3.4/site-packages/ipykernel/__main__.py:59: DeprecationWarning: assignment will raise an error in the future, most likely because your index result shape does not match the value array shape. You can use `arr.flat[index] = values` to keep the old behaviour.\n"
     ]
    },
    {
     "data": {
      "image/png": "[encoded data removed]",
      "text/plain": [
       "<matplotlib.figure.Figure at 0x2b988fa2eef0>"
      ]
     },
     "metadata": {},
     "output_type": "display_data"
    }
   ],
   "source": [
    "vbins,zbins,vbins_table = bin_data(data,plot=False)"
   ]
  },
  {
   "cell_type": "code",
   "execution_count": 15,
   "metadata": {
    "collapsed": false
   },
   "outputs": [
    {
     "name": "stderr",
     "output_type": "stream",
     "text": [
      "/home/ppxrh/anaconda3/lib/python3.4/site-packages/ipykernel/__main__.py:22: RuntimeWarning: divide by zero encountered in log10\n"
     ]
    }
   ],
   "source": [
    "fv_values = np.log10(np.linspace(10**(min_log_fv), 1, 100))\n",
    "cf_array,bin_parameters,fv_values = cf_bins(data,vbins,zbins)"
   ]
  },
  {
   "cell_type": "code",
   "execution_count": 27,
   "metadata": {
    "collapsed": false
   },
   "outputs": [],
   "source": [
    "#p0 = [0.9,1,5.6,-33,2.8,1,-5.6,34]\n",
    "p0 = np.ones(8)\n",
    "\n",
    "res = minimize(chisq_all_bins,p0,\n",
    "               args=(f_logistic,\n",
    "                     fv_values,\n",
    "                     cf_array),\n",
    "                     method='SLSQP')"
   ]
  },
  {
   "cell_type": "code",
   "execution_count": 20,
   "metadata": {
    "collapsed": false
   },
   "outputs": [
    {
     "data": {
      "text/plain": [
       "(-1.5, 0)"
      ]
     },
     "execution_count": 20,
     "metadata": {},
     "output_type": "execute_result"
    },
    {
     "data": {
      "image/png": "[encoded data removed]",
      "text/plain": [
       "<matplotlib.figure.Figure at 0x2b98a99da828>"
      ]
     },
     "metadata": {},
     "output_type": "display_data"
    }
   ],
   "source": [
    "# Select bin b to plot up and look at the result:\n",
    "#bf = res.x\n",
    "bf=p0\n",
    "b = 100\n",
    "\n",
    "Mr = bin_parameters['Mr'][b]\n",
    "R50 = bin_parameters['R50'][b]\n",
    "z = bin_parameters['z'][b]\n",
    "\n",
    "k = bf[0] + bf[1]*(Mr) + bf[2]*R50 + bf[3]*z\n",
    "c = bf[4] + bf[5]*(Mr) + bf[6]*R50 + bf[7]*z\n",
    "\n",
    "x = fv_values\n",
    "y = cf_array[b]\n",
    "\n",
    "plt.plot(x,y,'k-')\n",
    "plt.plot(x,func(x,k,c),'r--')\n",
    "plt.ylim(-0.2,1.2)\n",
    "plt.xlim(-1.5,0)"
   ]
  },
  {
   "cell_type": "code",
   "execution_count": null,
   "metadata": {
    "collapsed": true
   },
   "outputs": [],
   "source": []
  }
 ],
 "metadata": {
  "kernelspec": {
   "display_name": "Python 3",
   "language": "python",
   "name": "python3"
  },
  "language_info": {
   "codemirror_mode": {
    "name": "ipython",
    "version": 3
   },
   "file_extension": ".py",
   "mimetype": "text/x-python",
   "name": "python",
   "nbconvert_exporter": "python",
   "pygments_lexer": "ipython3",
   "version": "3.4.1"
  }
 },
 "nbformat": 4,
 "nbformat_minor": 0
}
