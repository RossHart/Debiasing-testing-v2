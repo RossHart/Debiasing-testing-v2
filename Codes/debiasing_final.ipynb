{
 "cells": [
  {
   "cell_type": "code",
   "execution_count": 1,
   "metadata": {
    "collapsed": false
   },
   "outputs": [],
   "source": [
    "from __future__ import print_function\n",
    "from __future__ import division\n",
    "\n",
    "import make_dictionaries\n",
    "import os\n",
    "import math\n",
    "import params\n",
    "\n",
    "import numpy as np\n",
    "from astropy.io import fits\n",
    "from astropy.table import Table\n",
    "from scipy.stats import binned_statistic, scoreatpercentile\n",
    "import pickle\n",
    "from scipy.optimize import minimize\n",
    "import time\n",
    "from voronoi_2d_binning import voronoi_2d_binning\n",
    "from sklearn.neighbors import NearestNeighbors"
   ]
  },
  {
   "cell_type": "code",
   "execution_count": 2,
   "metadata": {
    "collapsed": false
   },
   "outputs": [],
   "source": [
    "import binning\n",
    "import bin_debiasing\n",
    "import fit_debiasing"
   ]
  },
  {
   "cell_type": "code",
   "execution_count": 3,
   "metadata": {
    "collapsed": true
   },
   "outputs": [],
   "source": [
    "%matplotlib inline\n",
    "import matplotlib as mpl\n",
    "from matplotlib import pyplot as plt\n",
    "# better-looking plots\n",
    "plt.rcParams['font.family'] = 'serif'\n",
    "plt.rcParams['figure.figsize'] = (10.0, 8)\n",
    "plt.rcParams['font.size'] = 18\n",
    "mpl.ticker.AutoLocator.default_params['nbins'] = 5\n",
    "mpl.ticker.AutoLocator.default_params['prune'] = 'both'"
   ]
  },
  {
   "cell_type": "code",
   "execution_count": 4,
   "metadata": {
    "collapsed": true
   },
   "outputs": [],
   "source": [
    "os.mkdir('output_files/') if os.path.isdir('output_files/') is False else None"
   ]
  },
  {
   "cell_type": "code",
   "execution_count": 5,
   "metadata": {
    "collapsed": false
   },
   "outputs": [
    {
     "name": "stdout",
     "output_type": "stream",
     "text": [
      "Question to be debiased: t01_smooth_or_features\n"
     ]
    }
   ],
   "source": [
    "source_directory = params.source_directory\n",
    "save_directory = params.numpy_save_directory\n",
    "full_sample = params.full_sample\n",
    "volume_limited_sample = params.volume_limited_sample\n",
    "question = params.question\n",
    "bins_to_plot = params.bins_to_plot\n",
    "print('Question to be debiased: {}'.format(question))\n",
    "\n",
    "min_log_fv = -1.5\n",
    "max_log_fv = 0.01"
   ]
  },
  {
   "cell_type": "code",
   "execution_count": 6,
   "metadata": {
    "collapsed": false
   },
   "outputs": [
    {
     "name": "stdout",
     "output_type": "stream",
     "text": [
      "Loaded galaxy data...\n",
      "Loaded questions...\n",
      "Loaded functions...\n"
     ]
    }
   ],
   "source": [
    "full_data = Table.read(source_directory + full_sample)\n",
    "print('Loaded galaxy data...')\n",
    "questions = make_dictionaries.questions\n",
    "print('Loaded questions...')\n",
    "function_dictionary = make_dictionaries.function_dictionary\n",
    "print('Loaded functions...')"
   ]
  },
  {
   "cell_type": "code",
   "execution_count": 13,
   "metadata": {
    "collapsed": false
   },
   "outputs": [],
   "source": [
    "#for question in questions.keys():\n",
    "    #for answer in questions[question]['answers']:\n",
    "        #print(question + '_' + answer + '_weighted_fraction')\n",
    "        \n",
    "question = 't01_smooth_or_features'\n",
    "answer = 'a02_features_or_disk'"
   ]
  },
  {
   "cell_type": "code",
   "execution_count": 42,
   "metadata": {
    "collapsed": true
   },
   "outputs": [],
   "source": [
    "def debias_by_fit(data,full_data,vbins,zbins,zbins_coarse,function_dictionary,min_log_fv):\n",
    "    \n",
    "    fit_setup = fit_debiasing.get_best_function(data,vbins,zbins_coarse,function_dictionary,\n",
    "                                            question,answer,min_log_fv)\n",
    "    \n",
    "    fit_vbin_results = fit_debiasing.fit_vbin_function(data, vbins, zbins_coarse, fit_setup,\n",
    "                                                   question,answer,min_log_fv)\n",
    "    \n",
    "    k_func,c_func = fit_debiasing.get_kc_functions(fit_vbin_results)\n",
    "    \n",
    "    kparams, cparams,dout, kmin, kmax, cmin, cmax = fit_debiasing.fit_mrz(fit_vbin_results, k_func,\n",
    "                                                                      c_func,clip=2,plot=False)\n",
    "    \n",
    "    debiased_fit = fit_debiasing.debias(full_data,0.03, k_func,c_func, kparams, cparams,\n",
    "                                    question,answer,kmin,kmax,cmin,cmax,fit_setup)\n",
    "    # Debias ALL of the data \n",
    "    \n",
    "    return debiased_fit,fit_vbin_results"
   ]
  },
  {
   "cell_type": "code",
   "execution_count": 49,
   "metadata": {
    "collapsed": false
   },
   "outputs": [],
   "source": [
    "# Calculate RMS of the volume limited sample: -----\n",
    "\n",
    "def histogram_fractions(data,hist_bins):\n",
    "    h,bin_edges = np.histogram(data,bins=hist_bins)\n",
    "    f = h/np.sum(h)\n",
    "    return f\n",
    "\n",
    "\n",
    "def choose_best_function(vl_data,vl_fit,vl_bin,debiased_fit,debiased_bin):\n",
    "\n",
    "    hist_bins = np.linspace(0,1,11)\n",
    "    hist_bins[-1] = 2\n",
    "    hist_bins[0] = -1\n",
    "\n",
    "    # First divide the data into 10 redshift bins:\n",
    "    z_range = [np.min(vl_data['REDSHIFT_1']),np.max(vl_data['REDSHIFT_1'])]\n",
    "    z_bin_edges = np.linspace(z_range[0],z_range[1],11)\n",
    "    z_bin_edges[0] = 0 # Ensure all data is binned\n",
    "    z_bin_edges[-1] = 1 # Ensure all data is binned\n",
    "    z_bin_assign = np.digitize(vl_data['REDSHIFT_1'],bins=z_bin_edges) # 10 bins\n",
    "\n",
    "    low_z_reference = vl_data[z_bin_assign == 1][question + '_' + answer + '_weighted_fraction']\n",
    "\n",
    "    rms_bin_array = np.zeros((10,10))\n",
    "    rms_fit_array = np.zeros((10,10))\n",
    "\n",
    "    f_reference = histogram_fractions(low_z_reference,hist_bins)\n",
    "\n",
    "    for i,z_i in enumerate(np.unique(z_bin_assign)):\n",
    "    \n",
    "        high_z_select = z_bin_assign == z_i\n",
    "        vl_fit_h = vl_fit[high_z_select]\n",
    "        vl_bin_h = vl_bin[high_z_select]\n",
    "    \n",
    "        f_fit = histogram_fractions(vl_fit_h,hist_bins)\n",
    "        f_bin = histogram_fractions(vl_bin_h,hist_bins)\n",
    "    \n",
    "        rms_fit_array[i] = np.absolute(f_fit - f_reference)\n",
    "        rms_bin_array[i] = np.absolute(f_bin - f_reference)\n",
    "    \n",
    "    bin_residual = np.sum(rms_bin_array)/10\n",
    "    fit_residual = np.sum(rms_fit_array)/10\n",
    "\n",
    "    print('RMS residual from fitting method = {0:.3f}'.format(fit_residual))\n",
    "    print('RMS residual from binning method = {0:.3f}'.format(bin_residual))\n",
    "\n",
    "    if fit_residual > bin_residual:\n",
    "        print('---> Binning method selected')\n",
    "        debiased = debiased_bin.copy()\n",
    "    else:\n",
    "        print('---> Fitting method selected')\n",
    "        debiased = debiased_fit.copy()\n",
    "        \n",
    "    return debiased"
   ]
  },
  {
   "cell_type": "code",
   "execution_count": 45,
   "metadata": {
    "collapsed": true
   },
   "outputs": [],
   "source": [
    "def reduce_sample(data,questions,question,p_cut=0.5,N_cut=5):\n",
    "    \n",
    "    # Get the reference sample from the previous data:\n",
    "    \n",
    "    previous_q = questions[question]['pre_questions']\n",
    "    previous_a = questions[question]['pre_answers']\n",
    "    \n",
    "    if previous_q != None:\n",
    "        p_col = data[question + '_' + '_debiased_rh']\n",
    "        N_col = data[question + '_' + '_count']\n",
    "        select = (p_col > p_cut) & (N_col >= N_cut)\n",
    "        data_reduced = data[select]\n",
    "        print('{}/{} galaxies with p>{} and N>={}.'.format(len(data_reduced),\n",
    "                                                          len(data),p_cut,N_cut))\n",
    "    \n",
    "    else:\n",
    "        data_reduced = data.copy()\n",
    "        print('Primary question, so all {} galaxies used.'.format(len(data_reduced)))\n",
    "    \n",
    "    return data_reduced"
   ]
  },
  {
   "cell_type": "code",
   "execution_count": 53,
   "metadata": {
    "collapsed": false
   },
   "outputs": [],
   "source": [
    "def bin_and_debias(full_data,question,questions,answer):\n",
    "    \n",
    "    data = reduce_sample(full_data,questions,question)\n",
    "\n",
    "    vbins,zbins,zbins_coarse,vbins_all,zbins_all,zbins_coarse_all,vbins_table = binning.bin_data(data,full_data,question,answer,plot=False,signal=100)\n",
    "    \n",
    "    debiased_bin = bin_debiasing.debias(data,vbins,zbins,question,answer)\n",
    "    debiased_fit,fit_vbin_results = debias_by_fit(data,full_data,vbins,zbins,zbins_coarse,function_dictionary,min_log_fv)\n",
    "\n",
    "    volume_ok = data['in_volume_limit'] == 1\n",
    "    vl_data = full_data[volume_ok]\n",
    "    vl_fit = debiased_fit[volume_ok]\n",
    "    vl_bin = debiased_bin[volume_ok]\n",
    "\n",
    "    debiased = choose_best_function(vl_data,vl_fit,vl_bin,debiased_fit,debiased_bin)\n",
    "\n",
    "    data[question +'_' + answer + '_debiased_rh'] = debiased\n",
    "    \n",
    "    (os.mkdir('output_files/'+ question) if\n",
    "     os.path.isdir('output_files/'+ question) is False else None)\n",
    "    (os.mkdir('output_files/'+ question + '/' + answer) if\n",
    "     os.path.isdir('output_files/'+ question + '/' + answer) is False else None)\n",
    "\n",
    "    bin_table = Table([vbins,zbins,zbins_coarse],names=('vbin','zbin','coarse_zbin'))\n",
    "    all_bin_table = Table([vbins_all,zbins_all,zbins_coarse_all],names=('vbin','zbin','coarse_zbin'))\n",
    "    debiased_table = Table([debiased_bin,debiased_fit],names=('fit_method','bin_method'))\n",
    "\n",
    "    bin_table.write('output_files/'+ question + '/' + answer + '/bins.fits',overwrite=True)\n",
    "    debiased_table.write('output_files/'+ question + '/' + answer + '/debiased.fits',overwrite=True)\n",
    "    fit_vbin_results.write('output_files/'+ question + '/' + answer + '/fit_results.fits',overwrite=True)\n",
    "    vbins_table.write('output_files/'+ question + '/' + answer + '/vbin_parameters.fits',overwrite=True)\n",
    "\n",
    "    return debiased"
   ]
  },
  {
   "cell_type": "code",
   "execution_count": 51,
   "metadata": {
    "collapsed": false
   },
   "outputs": [
    {
     "name": "stdout",
     "output_type": "stream",
     "text": [
      "Primary question, so all 228201 galaxies used.\n",
      "Bin-accretion...\n",
      "2441  initial bins.\n",
      "Reassign bad bins...\n",
      "28  good bins.\n",
      "Modified Lloyd algorithm...\n",
      "26  iterations.\n",
      "Unbinned pixels:  0  /  38374\n",
      "Fractional S/N scatter (%): 10.244100466\n",
      "28 voronoi bins\n",
      "79.60714285714286 redshift bins per voronoi bin\n",
      "All bins fitted! 20.614737272262573s in total\n",
      "chisq(logistic) = 0.055703934100993724\n",
      "All bins fitted! 18.98494577407837s in total\n",
      "chisq(exp. power) = 0.028140701285528598\n",
      "All bins fitted! 19.14583444595337s in total\n",
      "RMS residual from fitting method = 0.329\n",
      "RMS residual from binning method = 0.133\n",
      "---> Binning method selected\n"
     ]
    },
    {
     "ename": "FileNotFoundError",
     "evalue": "[Errno 2] No such file or directory: 'output_files/t01_smooth_or_features/a02_features_or_disk'",
     "output_type": "error",
     "traceback": [
      "\u001b[1;31m---------------------------------------------------------------------------\u001b[0m",
      "\u001b[1;31mFileNotFoundError\u001b[0m                         Traceback (most recent call last)",
      "\u001b[1;32m<ipython-input-51-9f559d2fadf6>\u001b[0m in \u001b[0;36m<module>\u001b[1;34m()\u001b[0m\n\u001b[1;32m----> 1\u001b[1;33m \u001b[0mdebiased\u001b[0m \u001b[1;33m=\u001b[0m \u001b[0mbin_and_debias\u001b[0m\u001b[1;33m(\u001b[0m\u001b[0mfull_data\u001b[0m\u001b[1;33m,\u001b[0m\u001b[0mquestion\u001b[0m\u001b[1;33m,\u001b[0m\u001b[0mquestions\u001b[0m\u001b[1;33m,\u001b[0m\u001b[0manswer\u001b[0m\u001b[1;33m)\u001b[0m\u001b[1;33m\u001b[0m\u001b[0m\n\u001b[0m",
      "\u001b[1;32m<ipython-input-50-9466fcab1ecc>\u001b[0m in \u001b[0;36mbin_and_debias\u001b[1;34m(full_data, question, questions, answer)\u001b[0m\n\u001b[0;32m     18\u001b[0m \u001b[1;33m\u001b[0m\u001b[0m\n\u001b[0;32m     19\u001b[0m     (os.mkdir('output_files/'+ question + '/' + answer) if\n\u001b[1;32m---> 20\u001b[1;33m      os.path.isdir('output_files/'+ question + '/' + answer) is False else None)\n\u001b[0m\u001b[0;32m     21\u001b[0m \u001b[1;33m\u001b[0m\u001b[0m\n\u001b[0;32m     22\u001b[0m     \u001b[0mbin_table\u001b[0m \u001b[1;33m=\u001b[0m \u001b[0mTable\u001b[0m\u001b[1;33m(\u001b[0m\u001b[1;33m[\u001b[0m\u001b[0mvbins\u001b[0m\u001b[1;33m,\u001b[0m\u001b[0mzbins\u001b[0m\u001b[1;33m,\u001b[0m\u001b[0mzbins_coarse\u001b[0m\u001b[1;33m]\u001b[0m\u001b[1;33m,\u001b[0m\u001b[0mnames\u001b[0m\u001b[1;33m=\u001b[0m\u001b[1;33m(\u001b[0m\u001b[1;34m'vbin'\u001b[0m\u001b[1;33m,\u001b[0m\u001b[1;34m'zbin'\u001b[0m\u001b[1;33m,\u001b[0m\u001b[1;34m'coarse_zbin'\u001b[0m\u001b[1;33m)\u001b[0m\u001b[1;33m)\u001b[0m\u001b[1;33m\u001b[0m\u001b[0m\n",
      "\u001b[1;31mFileNotFoundError\u001b[0m: [Errno 2] No such file or directory: 'output_files/t01_smooth_or_features/a02_features_or_disk'"
     ]
    },
    {
     "data": {
      "image/png": "[encoded data removed]",
      "text/plain": [
       "<matplotlib.figure.Figure at 0x2b5694e53cc0>"
      ]
     },
     "metadata": {},
     "output_type": "display_data"
    }
   ],
   "source": [
    "for question in questions.keys():\n",
    "    for answer in questions[question]['answers']:\n",
    "        bin_and_debias(full_data,question,questions,answer)"
   ]
  },
  {
   "cell_type": "code",
   "execution_count": null,
   "metadata": {
    "collapsed": true
   },
   "outputs": [],
   "source": []
  }
 ],
 "metadata": {
  "kernelspec": {
   "display_name": "Python 3",
   "language": "python",
   "name": "python3"
  },
  "language_info": {
   "codemirror_mode": {
    "name": "ipython",
    "version": 3
   },
   "file_extension": ".py",
   "mimetype": "text/x-python",
   "name": "python",
   "nbconvert_exporter": "python",
   "pygments_lexer": "ipython3",
   "version": "3.4.1"
  }
 },
 "nbformat": 4,
 "nbformat_minor": 0
}
