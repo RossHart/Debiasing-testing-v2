{
 "cells": [
  {
   "cell_type": "code",
   "execution_count": 1,
   "metadata": {
    "collapsed": false
   },
   "outputs": [],
   "source": [
    "from astropy.table import Table\n",
    "import params\n",
    "\n",
    "% matplotlib inline"
   ]
  },
  {
   "cell_type": "code",
   "execution_count": 2,
   "metadata": {
    "collapsed": true
   },
   "outputs": [],
   "source": [
    "import params\n",
    "\n",
    "source_directory = params.source_directory\n",
    "save_directory = params.numpy_save_directory\n",
    "full_sample = params.full_sample\n",
    "question = params.question\n",
    "question_dictionary = params.question_dictionary"
   ]
  },
  {
   "cell_type": "code",
   "execution_count": 3,
   "metadata": {
    "collapsed": true
   },
   "outputs": [],
   "source": [
    "import pickle\n",
    "\n",
    "all_data = fits.getdata(source_directory+full_sample,1)\n",
    "all_data = Table(all_data)\n",
    "\n",
    "with open(source_directory+question_dictionary, 'rb') as h:\n",
    "    questions = pickle.load(h)\n",
    "    \n",
    "all_voronoi = fits.getdata(save_directory+'bins.fits',1)\n",
    "all_voronoi = Table(all_voronoi)\n",
    "\n",
    "vbins_table = fits.getdata(save_directory+'vbins_table.fits',1)\n",
    "vbins_table = Table(vbins_table)"
   ]
  },
  {
   "cell_type": "code",
   "execution_count": 8,
   "metadata": {
    "collapsed": false
   },
   "outputs": [],
   "source": [
    "all_data['voronoi_bin'] = all_voronoi['voronoi_bin']\n",
    "random.seed(0)\n",
    "random.shuffle(all_data)\n",
    "reduced_data = all_data[:20000]"
   ]
  },
  {
   "cell_type": "code",
   "execution_count": 9,
   "metadata": {
    "collapsed": false
   },
   "outputs": [
    {
     "name": "stdout",
     "output_type": "stream",
     "text": [
      "0 : 902 / 7856\n",
      "1 : 945 / 6929\n",
      "2 : 634 / 7727\n",
      "3 : 532 / 6592\n",
      "4 : 640 / 7285\n",
      "5 : 508 / 6089\n",
      "6 : 698 / 7928\n",
      "7 : 426 / 6749\n",
      "8 : 548 / 7626\n",
      "9 : 528 / 6551\n",
      "10 : 1434 / 9316\n",
      "11 : 793 / 7953\n",
      "12 : 613 / 7792\n",
      "13 : 481 / 7333\n",
      "14 : 468 / 6783\n",
      "15 : 591 / 6878\n",
      "16 : 341 / 7461\n",
      "17 : 522 / 6847\n",
      "18 : 631 / 7059\n",
      "19 : 1565 / 11364\n",
      "20 : 370 / 7519\n",
      "21 : 451 / 6257\n",
      "22 : 425 / 5645\n",
      "23 : 194 / 7312\n",
      "24 : 637 / 7773\n",
      "25 : 315 / 6549\n",
      "26 : 1060 / 9451\n",
      "27 : 319 / 6988\n",
      "28 : 4 / 2230\n",
      "29 : 320 / 6213\n",
      "30 : 657 / 7402\n",
      "31 : 502 / 7838\n",
      "32 : 292 / 6063\n",
      "33 : 480 / 7120\n",
      "34 : 174 / 4405\n"
     ]
    }
   ],
   "source": [
    "for v in np.unique(data['voronoi_bin']):\n",
    "    print(v,':',np.sum(reduced_data['voronoi_bin'] == v),'/',np.sum(all_data['voronoi_bin'] == v))"
   ]
  },
  {
   "cell_type": "code",
   "execution_count": 10,
   "metadata": {
    "collapsed": true
   },
   "outputs": [],
   "source": [
    "def redshift_binning(data,voronoi_bins,question,questions,min_gals=50):\n",
    "    \n",
    "    answers = questions[question]['answers']\n",
    "    morph_fv_cols = ['{}_{}_weighted_fraction'.format(question, a) \n",
    "                     for a in answers]\n",
    "    redshift = data['REDSHIFT_1']\n",
    "    z_bins = np.zeros((len(morph_fv_cols), len(data)), np.int)\n",
    "\n",
    "    for N in np.unique(voronoi_bins):\n",
    "        inbin = voronoi_bins == N\n",
    "\n",
    "        for m, fv_col in enumerate(morph_fv_cols):\n",
    "            # Select bins such that >= min_gals objects\n",
    "            # with at least one vote are in each bin\n",
    "            has_morph = data[fv_col][inbin] > 0\n",
    "            n_with_morph = (has_morph).sum()\n",
    "            n_zbins = n_with_morph / min_gals \n",
    "            n_zbins = max(n_zbins, 5)\n",
    "            z = redshift[inbin]\n",
    "            z_with_morph = z[has_morph]\n",
    "            z_with_morph.sort()\n",
    "            bin_edges = np.linspace(0, len(z_with_morph)-1, n_zbins+1, dtype=np.int)\n",
    "            z_edges = z_with_morph[bin_edges]\n",
    "            z_edges[0] = 0\n",
    "            z_edges[-1] = 1\n",
    "            z_bins[m, inbin] = np.digitize(z, z_edges)\n",
    "\n",
    "    return z_bins"
   ]
  },
  {
   "cell_type": "code",
   "execution_count": 5,
   "metadata": {
    "collapsed": false
   },
   "outputs": [],
   "source": [
    "def select_data_arm_number(data,question,questions,N_cut=5,p_cut=0.5):\n",
    "    \n",
    "    pre_questions = questions[question]['pre_questions']\n",
    "    pre_answers = questions[question]['pre_answers']\n",
    "    \n",
    "    strings = [pre_questions[s] + '_' + pre_answers[s] for s in range(len(pre_answers))]\n",
    "    p_strings = [s + '_debiased' for s in strings]\n",
    "    N_string = strings[-1] + '_count'\n",
    "\n",
    "    p_values = np.ones(len(data))\n",
    "    N_values = np.ones(len(data))\n",
    "\n",
    "    for Q in p_strings:\n",
    "        p_values = p_values*data[Q]\n",
    "    N_values = N_values*data[N_string]\n",
    "\n",
    "    select = (p_values > p_cut) & (N_values >= N_cut)\n",
    "    data = data[select]\n",
    "    \n",
    "    return select"
   ]
  },
  {
   "cell_type": "code",
   "execution_count": 13,
   "metadata": {
    "collapsed": false
   },
   "outputs": [],
   "source": [
    "if questions[question]['pre_questions'] is not None:\n",
    "\n",
    "    select = select_data_arm_number(all_data,question,questions)\n",
    "    data = all_data[select]\n",
    "    \n",
    "else:\n",
    "    data = all_data\n",
    "\n",
    "fractions = [question + '_' + s + '_weighted_fraction' for s in questions[question]['answers']]\n",
    "counts = [question + '_' + s + '_count' for s in questions[question]['answers']]"
   ]
  },
  {
   "cell_type": "code",
   "execution_count": 14,
   "metadata": {
    "collapsed": true
   },
   "outputs": [],
   "source": [
    "def f_logistic(x, k, c):\n",
    "    # Function to fit the data bin output from the raw plot function\n",
    "    L = 1 + np.exp(c)\n",
    "    r = L / (1.0 + np.exp(-k * x + c))\n",
    "    return r\n",
    "\n",
    "def f_exp_pow(x, k, c):\n",
    "    # Function to fit the data bin output from the raw plot function\n",
    "    r = np.exp(-k * (-x) ** c)\n",
    "    return r\n",
    "\n",
    "def f_x_inv(x,k,c):\n",
    "    r = 1/(1 + k*((-x))**c)\n",
    "    return r\n",
    "\n",
    "def chisq_fun(p, f, x, y):\n",
    "    return ((f(x, *p) - y)**2).sum()"
   ]
  },
  {
   "cell_type": "code",
   "execution_count": 15,
   "metadata": {
    "collapsed": false
   },
   "outputs": [],
   "source": [
    "fit_setup = {}\n",
    "fit_setup['func'] = {None: f_logistic}\n",
    "fit_setup['bounds'] = {None: params.logistic_bounds}\n",
    "fit_setup['p0'] = {None:[3,-3]}"
   ]
  },
  {
   "cell_type": "code",
   "execution_count": 16,
   "metadata": {
    "collapsed": false
   },
   "outputs": [],
   "source": [
    "n_morph = len(arm_answers)\n",
    "def make_axes(n_morph):\n",
    "\n",
    "    x_dimension = math.ceil(math.sqrt(n_morph))\n",
    "    y_dimension = math.ceil(n_morph/x_dimension)\n",
    "    n_plots = x_dimension*y_dimension\n",
    "    n_spare = n_plots-n_morph\n",
    "    remove_axes = np.arange(-n_spare,0)\n",
    "    fig,axes = plt.subplots(y_dimension,x_dimension,sharex=True,sharey=True,figsize=(5*x_dimension,5*y_dimension))\n",
    "    plt.subplots_adjust(hspace=0,wspace=0)\n",
    "    axes=axes.ravel()\n",
    "    for m in remove_axes:\n",
    "        fig.delaxes(axes[m])\n",
    "    return fig,axes\n",
    "#plt.show()"
   ]
  },
  {
   "cell_type": "code",
   "execution_count": 22,
   "metadata": {
    "collapsed": false,
    "scrolled": false
   },
   "outputs": [
    {
     "name": "stdout",
     "output_type": "stream",
     "text": [
      "Inverse x function chosen fora01_smooth\n",
      "Logistic function chosen fora02_features_or_disk\n",
      "Inverse x function chosen fora03_star_or_artifact\n"
     ]
    },
    {
     "name": "stderr",
     "output_type": "stream",
     "text": [
      "/home/ppxrh/anaconda3/lib/python3.4/site-packages/ipykernel/__main__.py:16: RuntimeWarning: divide by zero encountered in log10\n"
     ]
    },
    {
     "data": {
      "image/png": "[encoded data removed]",
      "text/plain": [
       "<matplotlib.figure.Figure at 0x2ae08e7deeb8>"
      ]
     },
     "metadata": {},
     "output_type": "display_data"
    }
   ],
   "source": [
    "from scipy.optimize import minimize\n",
    "\n",
    "# Firstly make a selection on which function is best to plot \n",
    "# (either the exponential power or the logistic function.)\n",
    "\n",
    "fit_setup = {}\n",
    "fit_setup['func'] = {None: f_logistic}\n",
    "fit_setup['bounds'] = {None: params.logistic_bounds}\n",
    "fit_setup['p0'] = {None:[3,-3]}\n",
    "\n",
    "n_morph = len(questions[question]['answers'])\n",
    "fig,axes = make_axes(n_morph)\n",
    "\n",
    "for m in range(n_morph):\n",
    "    \n",
    "    p_values = np.log10(np.sort(data[fractions[m]]))\n",
    "    n = len(p_values)\n",
    "    cumfrac = np.linspace(0,1,n)\n",
    "    D = Table(np.array([cumfrac,p_values]).T,names=('cumfrac','log10fv'))\n",
    "    D = D[data[counts[m]] >= 1]\n",
    "    \n",
    "    axes[m].plot(D['log10fv'],D['cumfrac'],'k-')\n",
    "    \n",
    "    res_log = minimize(chisq_fun,x0=[3,-3],\n",
    "                       args=(f_logistic,\n",
    "                             D['log10fv'].astype(np.float64),\n",
    "                             D['cumfrac'].astype(np.float64)),\n",
    "                             method='SLSQP',bounds=params.logistic_bounds)\n",
    "    \n",
    "    res_exp = minimize(chisq_fun,x0=[2,1],\n",
    "                       args=(f_exp_pow,\n",
    "                             D['log10fv'].astype(np.float64),\n",
    "                             D['cumfrac'].astype(np.float64)),\n",
    "                             method='SLSQP',bounds=params.exponential_bounds)\n",
    "    \n",
    "    res_inv = minimize(chisq_fun,x0=[1,1],\n",
    "                       args=(f_x_inv,\n",
    "                             D['log10fv'].astype(np.float64),\n",
    "                             D['cumfrac'].astype(np.float64)),\n",
    "                             method='SLSQP',bounds=((0.01,20),(0.01,5)))\n",
    "                    \n",
    "    xg = np.linspace(-2,0,100)\n",
    "    \n",
    "    axes[m].plot(xg,f_exp_pow(xg,res_exp.x[0],res_exp.x[1]),'r--')\n",
    "    axes[m].plot(xg,f_logistic(xg,res_log.x[0],res_log.x[1]),'b--')\n",
    "    axes[m].plot(xg,f_x_inv(xg,res_inv.x[0],res_inv.x[1]),'g--')\n",
    "    \n",
    "    #chisq_exp = res_exp.fun\n",
    "    #chisq_log = res_log.fun\n",
    "    #chisq_inv = res_inv.fun\n",
    "    \n",
    "    chisq = np.array([res_exp.fun,res_inv.fun,res_log.fun])\n",
    "    \n",
    "    if np.argmin(chisq) == 0:\n",
    "        f = f_exp_pow\n",
    "        bounds = params.exponential_bounds\n",
    "        res = res_exp.x\n",
    "        print('Exponential function chosen for ' + questions[question]['answers'][m])\n",
    "        \n",
    "    elif np.argmin(chisq) == 1:\n",
    "        f = f_x_inv\n",
    "        bounds = ((0.01,20),(0.01,5))\n",
    "        res = res_inv.x\n",
    "        print('Inverse x function chosen for ' + questions[question]['answers'][m])\n",
    "    else:\n",
    "        f = f_logistic\n",
    "        bounds = params.logistic_bounds\n",
    "        res = res_log.x\n",
    "        print('Logistic function chosen for ' + questions[question]['answers'][m])\n",
    "    \n",
    "    fit_setup['func'].update({m:f})\n",
    "    fit_setup['bounds'].update({m:bounds})\n",
    "    fit_setup['p0'].update({m:res})\n",
    "    \n",
    "    axes[m].text(0.04,0.98,r'$\\chi^{2}_{log}' + '={0:.0f}$'.format(chisq_log)\n",
    "                ,family='serif',horizontalalignment='left',verticalalignment='top'\n",
    "                ,transform = axes[m].transAxes,size=15,color='blue')\n",
    "    axes[m].text(0.04,0.88,r'$\\chi^{2}_{exp}' + '={0:.0f}$'.format(chisq_exp)\n",
    "                 ,family='serif',horizontalalignment='left',verticalalignment='top'\n",
    "                 ,transform = axes[m].transAxes,size=15,color='red')\n",
    "    axes[m].text(0.04,0.78,r'$\\chi^{2}_{inv}' + '={0:.0f}$'.format(chisq_inv)\n",
    "                 ,family='serif',horizontalalignment='left',verticalalignment='top'\n",
    "                 ,transform = axes[m].transAxes,size=15,color='green')\n",
    "    \n",
    "plt.xlim(-2,0)\n",
    "plt.ylim(0,1)\n",
    "\n",
    "os.mkdir('figures/fit_setups/') if os.path.isdir('figures/fit_setups/') is False else None\n",
    "\n",
    "plt.savefig('figures/fit_setups/' + question + '_setup.pdf')"
   ]
  },
  {
   "cell_type": "code",
   "execution_count": 22,
   "metadata": {
    "collapsed": true
   },
   "outputs": [],
   "source": [
    "def f_inv_x(x,k,c):\n",
    "    # Function to fit the data bin output from the raw plot function\n",
    "    r = 1/(1 + k*((-x))**c)\n",
    "    return r\n",
    "    \n",
    "def i_f_inv_x(x,k,c):\n",
    "    # inverse of f_inv_x\n",
    "    x = -(((1/y)-1)/k)**(-c)\n",
    "    return x"
   ]
  },
  {
   "cell_type": "code",
   "execution_count": 25,
   "metadata": {
    "collapsed": false
   },
   "outputs": [],
   "source": [
    "k = 1\n",
    "c = 1\n",
    "x = -1\n",
    "\n",
    "y = f_inv_x(x,k,c)\n",
    "x = i_f_inv_x(y,k,c)"
   ]
  },
  {
   "cell_type": "code",
   "execution_count": 26,
   "metadata": {
    "collapsed": false
   },
   "outputs": [
    {
     "name": "stdout",
     "output_type": "stream",
     "text": [
      "-1.0\n"
     ]
    }
   ],
   "source": [
    "print(x)"
   ]
  },
  {
   "cell_type": "code",
   "execution_count": null,
   "metadata": {
    "collapsed": true
   },
   "outputs": [],
   "source": []
  }
 ],
 "metadata": {
  "kernelspec": {
   "display_name": "Python 3",
   "language": "python",
   "name": "python3"
  },
  "language_info": {
   "codemirror_mode": {
    "name": "ipython",
    "version": 3
   },
   "file_extension": ".py",
   "mimetype": "text/x-python",
   "name": "python",
   "nbconvert_exporter": "python",
   "pygments_lexer": "ipython3",
   "version": "3.4.1"
  }
 },
 "nbformat": 4,
 "nbformat_minor": 0
}
