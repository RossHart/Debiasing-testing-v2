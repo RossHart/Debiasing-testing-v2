{
 "cells": [
  {
   "cell_type": "code",
   "execution_count": 1,
   "metadata": {
    "collapsed": true
   },
   "outputs": [],
   "source": [
    "from __future__ import print_function\n",
    "from __future__ import division"
   ]
  },
  {
   "cell_type": "code",
   "execution_count": 2,
   "metadata": {
    "collapsed": false
   },
   "outputs": [],
   "source": [
    "%matplotlib inline\n",
    "import matplotlib as mpl\n",
    "from matplotlib import pyplot as plt\n",
    "# better-looking plots\n",
    "plt.rcParams['font.family'] = 'serif'\n",
    "plt.rcParams['figure.figsize'] = (10.0, 8)\n",
    "plt.rcParams['font.size'] = 18\n",
    "mpl.ticker.AutoLocator.default_params['nbins'] = 5\n",
    "mpl.ticker.AutoLocator.default_params['prune'] = 'both'"
   ]
  },
  {
   "cell_type": "code",
   "execution_count": 3,
   "metadata": {
    "collapsed": true
   },
   "outputs": [],
   "source": [
    "import numpy as np\n",
    "from astropy.io import fits\n",
    "from astropy.table import Table\n",
    "from scipy.stats import binned_statistic, scoreatpercentile\n",
    "import pickle\n",
    "from scipy.optimize import minimize"
   ]
  },
  {
   "cell_type": "code",
   "execution_count": 28,
   "metadata": {
    "collapsed": false
   },
   "outputs": [
    {
     "name": "stdout",
     "output_type": "stream",
     "text": [
      "Question to be debiased: t01_smooth_or_features\n"
     ]
    }
   ],
   "source": [
    "import params\n",
    "\n",
    "source_directory = params.source_directory\n",
    "save_directory = params.numpy_save_directory\n",
    "full_sample = params.full_sample\n",
    "volume_limited_sample = params.volume_limited_sample\n",
    "question = params.question\n",
    "question_dictionary = params.question_dictionary\n",
    "bins_to_plot = params.bins_to_plot\n",
    "print('Question to be debiased: {}'.format(question))\n",
    "\n",
    "min_log_fv = -1.5#np.log10(0.1)\n",
    "max_log_fv = 0.1 #np.log10(0.9)\n",
    "\n",
    "#min_log_fv = np.log10(0.1)\n",
    "#max_log_fv = np.log10(0.8)"
   ]
  },
  {
   "cell_type": "code",
   "execution_count": 5,
   "metadata": {
    "collapsed": false
   },
   "outputs": [
    {
     "name": "stdout",
     "output_type": "stream",
     "text": [
      "Loaded galaxy data...\n",
      "Loaded question dictionary...\n",
      "Loaded voronoi bins...\n"
     ]
    }
   ],
   "source": [
    "all_data = fits.getdata(source_directory + full_sample,1)\n",
    "vl_data = fits.getdata(source_directory + volume_limited_sample,1)\n",
    "all_data = Table(all_data)\n",
    "vl_data = Table(vl_data)\n",
    "print('Loaded galaxy data...')\n",
    "\n",
    "with open(source_directory+question_dictionary, 'rb') as h:\n",
    "    questions = pickle.load(h)\n",
    "print('Loaded question dictionary...')\n",
    "# Stuff obtained from the voronoi code:\n",
    "all_voronoi = fits.getdata(save_directory+'bins.fits',1)\n",
    "all_voronoi = Table(all_voronoi)\n",
    "vbins_table = fits.getdata(save_directory+'vbins_table.fits',1)\n",
    "vbins_table = Table(vbins_table)\n",
    "print('Loaded voronoi bins...')"
   ]
  },
  {
   "cell_type": "code",
   "execution_count": 6,
   "metadata": {
    "collapsed": true
   },
   "outputs": [],
   "source": [
    "# Make a table for writing in data if none already exist:\n",
    "if os.path.isfile(save_directory+'full_sample_debiased.fits') is True:\n",
    "    all_data_save = fits.getdata(save_directory+'full_sample_debiased.fits',1)\n",
    "    all_data_save = Table(all_data_save)\n",
    "else:\n",
    "    all_data_save = Table()\n",
    "    \n",
    "if os.path.isfile(save_directory+'vl_sample_debiased.fits') is True:\n",
    "    vl_data_save = fits.getdata(save_directory+'vl_sample_debiased.fits',1)\n",
    "    vl_data_save = Table(vl_data_save)\n",
    "else:\n",
    "    vl_data_save = Table()"
   ]
  },
  {
   "cell_type": "code",
   "execution_count": 7,
   "metadata": {
    "collapsed": false
   },
   "outputs": [],
   "source": [
    "def make_figure_directory(name):\n",
    "    full_name = 'figures/' + question + '/' + name + '/'\n",
    "    if os.path.isdir(full_name) is False:\n",
    "        os.mkdir(full_name)\n",
    "        print('Made directory:' + full_name)\n",
    "    return None\n",
    "\n",
    "os.mkdir('figures/' + question + '/') if os.path.isdir('figures/' + question + '/') is False else None\n",
    "for name in ['fitted_results','fit_setups','kc_fitted_functions','debiased_plots']:\n",
    "    make_figure_directory(name)"
   ]
  },
  {
   "cell_type": "code",
   "execution_count": 8,
   "metadata": {
    "collapsed": true
   },
   "outputs": [],
   "source": [
    "## from 01_select.py\n",
    "\n",
    "def select_data_arm_number(data,debiased,question,questions,N_cut=5,p_cut=0.5):\n",
    "    \n",
    "    pre_questions = questions[question]['pre_questions']\n",
    "    pre_answers = questions[question]['pre_answers']\n",
    "    \n",
    "    strings = [pre_questions[s] + '_' + pre_answers[s] for s in range(len(pre_answers))]\n",
    "    p_strings = [s + '_debiased' for s in strings]\n",
    "    N_string = strings[-1] + '_count'\n",
    "\n",
    "    p_values = np.ones(len(data))\n",
    "    N_values = np.ones(len(data))\n",
    "\n",
    "    for Q in p_strings:\n",
    "        p_values = p_values*debiased[Q]\n",
    "    N_values = N_values*data[N_string]\n",
    "\n",
    "    select = (p_values > p_cut) & (N_values >= N_cut)\n",
    "    \n",
    "    print('{}/{} ({}%) galaxies selected in sample with p>{} and N>={}.'.format(np.sum(select),len(select),\n",
    "                                                                               100*np.sum(select)/len(select),p_cut,N_cut))\n",
    "    \n",
    "    return select"
   ]
  },
  {
   "cell_type": "code",
   "execution_count": 9,
   "metadata": {
    "collapsed": false
   },
   "outputs": [],
   "source": [
    "## from 11_voronoi_assignment.py\n",
    "\n",
    "def redshift_binning(data,voronoi_bins,question,questions,min_gals=50):\n",
    "    \n",
    "    answers = questions[question]['answers']\n",
    "    morph_fv_cols = ['{}_{}_weighted_fraction'.format(question, a) \n",
    "                     for a in answers]\n",
    "    redshift = data['REDSHIFT_1']\n",
    "    z_bins = np.zeros((len(morph_fv_cols), len(data)), np.int)\n",
    "\n",
    "    for N in np.unique(voronoi_bins):\n",
    "        inbin = voronoi_bins == N\n",
    "\n",
    "        for m, fv_col in enumerate(morph_fv_cols):\n",
    "            # Select bins such that >= min_gals objects\n",
    "            # with at least one vote are in each bin\n",
    "            has_morph = data[fv_col][inbin] > 0\n",
    "            n_with_morph = (has_morph).sum()\n",
    "            n_zbins = n_with_morph / min_gals \n",
    "            n_zbins = max(n_zbins, 5)\n",
    "            z = redshift[inbin]\n",
    "            z_with_morph = z[has_morph]\n",
    "            z_with_morph.sort()\n",
    "            bin_edges = np.linspace(0, len(z_with_morph)-1, n_zbins+1, dtype=np.int)\n",
    "            z_edges = z_with_morph[bin_edges]\n",
    "            z_edges[0] = 0\n",
    "            z_edges[-1] = 1\n",
    "            z_bins[m, inbin] = np.digitize(z, z_edges)\n",
    "\n",
    "    return z_bins"
   ]
  },
  {
   "cell_type": "code",
   "execution_count": 10,
   "metadata": {
    "collapsed": false
   },
   "outputs": [],
   "source": [
    "def save_bin_assignments(v_bins, z_bins, question='t11_arms_number'):\n",
    "    assignments = Table(data=[v_bins], names=['vbin'])\n",
    "    for m in range(len(z_bins)):\n",
    "        zcol = 'zbin_{}'.format(m)\n",
    "        assignments[zcol] = z_bins[m]\n",
    "    assignments.write(save_directory + 'bin_assignments_{}.fits'.format(question),\n",
    "                      overwrite=True)\n",
    "    return assignments"
   ]
  },
  {
   "cell_type": "code",
   "execution_count": 11,
   "metadata": {
    "collapsed": false
   },
   "outputs": [
    {
     "name": "stdout",
     "output_type": "stream",
     "text": [
      "Primary question, so all 248883 galaxies used for debiasing.\n"
     ]
    }
   ],
   "source": [
    "question = 't01_smooth_or_features'\n",
    "\n",
    "if questions[question]['pre_questions'] != None:\n",
    "    select = select_data_arm_number(all_data,all_data_save,question,questions)\n",
    "    data = all_data[select]\n",
    "    voronoi = all_voronoi[select]\n",
    "\n",
    "else:\n",
    "    data = all_data\n",
    "    voronoi = all_voronoi\n",
    "    print('Primary question, so all {} galaxies used for debiasing.'.format(len(data)))"
   ]
  },
  {
   "cell_type": "code",
   "execution_count": 12,
   "metadata": {
    "collapsed": false
   },
   "outputs": [],
   "source": [
    "redshift_bins = redshift_binning(data, voronoi['voronoi_bin'],question,questions)\n",
    "bin_assignments = save_bin_assignments(voronoi['voronoi_bin'],redshift_bins,question)"
   ]
  },
  {
   "cell_type": "code",
   "execution_count": 32,
   "metadata": {
    "collapsed": false
   },
   "outputs": [],
   "source": [
    "def make_setup_dictionary(question,questions,function_dictionary=function_dictionary,\n",
    "                          plot=True,min_log_fv=min_log_fv,max_log_fv=max_log_fv):\n",
    "\n",
    "    fit_setup = {}\n",
    "    fit_setup['func'] = {None: f_logistic}\n",
    "    fit_setup['bounds'] = {None: params.logistic_bounds}\n",
    "    fit_setup['p0'] = {None:[3,-3]}\n",
    "\n",
    "    n_morph = len(questions[question]['answers'])\n",
    "    fig,axes = make_axes(n_morph)\n",
    "\n",
    "    fractions = [question + '_' + s + '_weighted_fraction' for s in questions[question]['answers']]\n",
    "    counts = [question + '_' + s + '_count' for s in questions[question]['answers']]\n",
    "\n",
    "    for m in range(n_morph):\n",
    "    \n",
    "        p_values = np.log10(np.sort(data[fractions[m]]))\n",
    "        n = len(p_values)\n",
    "        cumfrac = np.linspace(0,1,n)\n",
    "        D = Table(np.array([cumfrac,p_values]).T,names=('cumfrac','log10fv'))\n",
    "        D_fit = D[(D['log10fv'] > min_log_fv) & (D['log10fv'] < max_log_fv)] # usually see a 'levelling off' ath the\n",
    "    # low end, so don't fit this.\n",
    "    \n",
    "        axes[m].plot(D['log10fv'],D['cumfrac'],'k-',linewidth=2)\n",
    "        \n",
    "        chisqs = []\n",
    "        best_kcs = []\n",
    "        \n",
    "        for f in range(len(function_dictionary['func'])):\n",
    "        \n",
    "            p0 = function_dictionary['p0'][f]\n",
    "            func = function_dictionary['func'][f]\n",
    "            bounds = function_dictionary['bounds'][f]\n",
    "            \n",
    "            res = minimize(chisq_fun,x0=p0,\n",
    "                               args=(func,\n",
    "                                     D_fit['log10fv'].astype(np.float64),\n",
    "                                     D_fit['cumfrac'].astype(np.float64)),\n",
    "                                     method='SLSQP',bounds=bounds)\n",
    "        \n",
    "            chisqs.append(res.fun)\n",
    "            best_kcs.append(res.x)\n",
    "        \n",
    "        best_f = np.argmin(chisqs)\n",
    "        chisq = np.min(chisqs)\n",
    "        best_func = function_dictionary['func'][best_f]\n",
    "        best_kc = best_kcs[best_f]\n",
    "        best_bounds = function_dictionary['bounds'][best_f]\n",
    "        best_label = function_dictionary['label'][best_f]\n",
    "                    \n",
    "        xg = np.linspace(-2,0,100)\n",
    "        #axes[m].plot(xg,f_inv_x(xg,res_inv.x[0],res_inv.x[1]),'g--',linewidth=2)\n",
    "    \n",
    "        fit_setup['func'].update({m:best_func})\n",
    "        fit_setup['bounds'].update({m:best_bounds})\n",
    "        fit_setup['p0'].update({m:best_kc})\n",
    "    \n",
    "        axes[m].text(0.98,0.1,\n",
    "                     ('$\\chi^{2}' + '_{{{}}}'.format(best_label) + '={0:.0f}$'.format(chisq))\n",
    "                     ,family='serif',horizontalalignment='right',verticalalignment='top'\n",
    "                     ,transform = axes[m].transAxes,size=15,color='red')\n",
    "        \n",
    "        axes[m].text(0.04,0.95,questions[question]['answerlabels'][m]\n",
    "                     ,family='serif',horizontalalignment='left',verticalalignment='top'\n",
    "                     ,transform = axes[m].transAxes,size=15)\n",
    "        \n",
    "        axes[m].plot(xg,best_func(xg,best_kc[0],best_kc[1]),'r--',linewidth=2)\n",
    "    \n",
    "    plt.xlim(-2,0)\n",
    "    plt.ylim(0,1)\n",
    "    \n",
    "    if plot == True:\n",
    "        plt.savefig('figures/' + question + '/fit_setups/' + question + '_setup.pdf')\n",
    "        \n",
    "    return fit_setup"
   ]
  },
  {
   "cell_type": "code",
   "execution_count": 20,
   "metadata": {
    "collapsed": true
   },
   "outputs": [],
   "source": [
    "def get_fit_setup(fit_setup, m):\n",
    "    def get_m(x):\n",
    "        return x[m] if m in x.keys() else x[None]\n",
    "    func = get_m(fit_setup['func'])\n",
    "    p0 = get_m(fit_setup['p0'])\n",
    "    bounds = get_m(fit_setup['bounds'])\n",
    "    return func, p0, bounds"
   ]
  },
  {
   "cell_type": "code",
   "execution_count": 21,
   "metadata": {
    "collapsed": false
   },
   "outputs": [],
   "source": [
    "def make_axes(n_morph,xlabel='$\\log(f_v)$',ylabel='cumulative fraction'):\n",
    "\n",
    "    x_dimension = math.ceil(math.sqrt(n_morph))\n",
    "    y_dimension = math.ceil(n_morph/x_dimension)\n",
    "    n_plots = x_dimension*y_dimension\n",
    "    n_spare = n_plots-n_morph\n",
    "    remove_axes = np.arange(-n_spare,0)\n",
    "    fig,axes = plt.subplots(y_dimension,x_dimension,sharex=True,sharey=True,figsize=(5*x_dimension,5*y_dimension))\n",
    "    if n_morph >= 3:\n",
    "        for ax in axes[-1,:]:\n",
    "            ax.set_xlabel(xlabel)\n",
    "        for ax in axes[:,0]:\n",
    "            ax.set_ylabel(ylabel) \n",
    "    else:\n",
    "        axes[0].set_xlabel(xlabel)\n",
    "        axes[0].set_ylabel(ylabel)\n",
    "        axes[1].set_xlabel(xlabel)\n",
    "    plt.subplots_adjust(hspace=0,wspace=0)\n",
    "    axes=axes.ravel()\n",
    "    for m in remove_axes:\n",
    "        fig.delaxes(axes[m])\n",
    "    return fig,axes"
   ]
  },
  {
   "cell_type": "code",
   "execution_count": 55,
   "metadata": {
    "collapsed": false
   },
   "outputs": [],
   "source": [
    "def make_setup_dictionary(question,questions,function_dictionary=function_dictionary,\n",
    "                          plot=True,min_log_fv=min_log_fv,max_log_fv=max_log_fv):\n",
    "\n",
    "    fit_setup = {}\n",
    "    fit_setup['func'] = {None: f_logistic}\n",
    "    fit_setup['bounds'] = {None: params.logistic_bounds}\n",
    "    fit_setup['p0'] = {None:[3,-3]}\n",
    "\n",
    "    n_morph = len(questions[question]['answers'])\n",
    "    fig,axes = make_axes(n_morph)\n",
    "\n",
    "    fractions = [question + '_' + s + '_weighted_fraction' for s in questions[question]['answers']]\n",
    "    counts = [question + '_' + s + '_count' for s in questions[question]['answers']]\n",
    "\n",
    "    for m in range(n_morph):\n",
    "    \n",
    "        p_values = np.log10(np.sort(data[fractions[m]]))\n",
    "        n = len(p_values)\n",
    "        cumfrac = np.linspace(0,1,n)\n",
    "        D = Table(np.array([cumfrac,p_values]).T,names=('cumfrac','log10fv'))\n",
    "        D_fit = D[(D['log10fv'] > min_log_fv) & (D['log10fv'] < max_log_fv)] # usually see a 'levelling off' ath the\n",
    "    # low end, so don't fit this.\n",
    "    \n",
    "        axes[m].plot(D['log10fv'],D['cumfrac'],'k-',linewidth=2)\n",
    "        \n",
    "        chisqs = []\n",
    "        best_kcs = []\n",
    "        \n",
    "        for f in range(len(function_dictionary['func'])):\n",
    "        \n",
    "            p0 = function_dictionary['p0'][f]\n",
    "            func = function_dictionary['func'][f]\n",
    "            bounds = function_dictionary['bounds'][f]\n",
    "            \n",
    "            res = minimize(chisq_fun,x0=p0,\n",
    "                               args=(func,\n",
    "                                     D_fit['log10fv'].astype(np.float64),\n",
    "                                     D_fit['cumfrac'].astype(np.float64)),\n",
    "                                     method='SLSQP',bounds=bounds)\n",
    "        \n",
    "            chisqs.append(res.fun)\n",
    "            best_kcs.append(res.x)\n",
    "        \n",
    "        best_f = np.argmin(chisqs)\n",
    "        chisq = np.min(chisqs)\n",
    "        best_func = function_dictionary['func'][best_f]\n",
    "        best_kc = best_kcs[best_f]\n",
    "        best_bounds = function_dictionary['bounds'][best_f]\n",
    "        best_label = function_dictionary['label'][best_f]\n",
    "                    \n",
    "        xg = np.linspace(-2,0,100)\n",
    "        #axes[m].plot(xg,f_inv_x(xg,res_inv.x[0],res_inv.x[1]),'g--',linewidth=2)\n",
    "    \n",
    "        fit_setup['func'].update({m:best_func})\n",
    "        fit_setup['bounds'].update({m:best_bounds})\n",
    "        fit_setup['p0'].update({m:best_kc})\n",
    "    \n",
    "        axes[m].text(0.98,0.1,\n",
    "                     ('$\\chi^{2}' + '_{{{}}}'.format(best_label) + '={0:.0f}$'.format(chisq))\n",
    "                     ,family='serif',horizontalalignment='right',verticalalignment='top'\n",
    "                     ,transform = axes[m].transAxes,size=15,color='red')\n",
    "        \n",
    "        axes[m].text(0.04,0.95,questions[question]['answerlabels'][m]\n",
    "                     ,family='serif',horizontalalignment='left',verticalalignment='top'\n",
    "                     ,transform = axes[m].transAxes,size=15)\n",
    "        \n",
    "        axes[m].plot(xg,best_func(xg,best_kc[0],best_kc[1]),'r--',linewidth=2)\n",
    "    \n",
    "    plt.xlim(-2,0)\n",
    "    plt.ylim(0,1)\n",
    "    \n",
    "    if plot == True:\n",
    "        plt.savefig('figures/' + question + '/fit_setups/' + question + '_setup.pdf')\n",
    "        \n",
    "    return fit_setup\n",
    "\n",
    "#fit_setup = make_setup_dictionary(question,questions)"
   ]
  },
  {
   "cell_type": "code",
   "execution_count": 56,
   "metadata": {
    "collapsed": false
   },
   "outputs": [
    {
     "name": "stderr",
     "output_type": "stream",
     "text": [
      "/home/ppxrh/anaconda3/lib/python3.4/site-packages/ipykernel/__main__.py:17: RuntimeWarning: divide by zero encountered in log10\n"
     ]
    },
    {
     "data": {
      "image/png": "[encoded data removed]",
      "text/plain": [
       "<matplotlib.figure.Figure at 0x2af7af8bbc50>"
      ]
     },
     "metadata": {},
     "output_type": "display_data"
    }
   ],
   "source": [
    "fit_setup = make_setup_dictionary(question,questions)"
   ]
  },
  {
   "cell_type": "code",
   "execution_count": 108,
   "metadata": {
    "collapsed": false
   },
   "outputs": [],
   "source": [
    "def function_inversion(value,func,k,kb,c,cb):\n",
    "    # for use when function has no mathematical inverse\n",
    "    xg = np.log10(np.linspace(0.01,1,100))\n",
    "    low_z_values = func(xg,kb,cb)\n",
    "    high_z_value = func(value,k,c)\n",
    "    i = (np.abs(low_z_values-high_z_value)).argmin()\n",
    "    x = xg[i]\n",
    "    return x\n",
    "\n",
    "def f_inv(x,k,c):\n",
    "    # Function to fit the data bin output from the raw plot function\n",
    "    r = 1/(1 + k*((-x))**c)\n",
    "    return r\n",
    "\n",
    "def i_f_exp_pow(y, k, c):\n",
    "    # inverse of f_exp_pow\n",
    "    ok = k > 0\n",
    "    x = np.zeros_like(y) - np.inf\n",
    "    #x[ok] = -(-np.log(y[ok]) /k[ok] )**(1.0/c[ok])\n",
    "    return x"
   ]
  },
  {
   "cell_type": "code",
   "execution_count": null,
   "metadata": {
    "collapsed": true
   },
   "outputs": [],
   "source": []
  }
 ],
 "metadata": {
  "kernelspec": {
   "display_name": "Python 3",
   "language": "python",
   "name": "python3"
  },
  "language_info": {
   "codemirror_mode": {
    "name": "ipython",
    "version": 3
   },
   "file_extension": ".py",
   "mimetype": "text/x-python",
   "name": "python",
   "nbconvert_exporter": "python",
   "pygments_lexer": "ipython3",
   "version": "3.4.1"
  }
 },
 "nbformat": 4,
 "nbformat_minor": 0
}
